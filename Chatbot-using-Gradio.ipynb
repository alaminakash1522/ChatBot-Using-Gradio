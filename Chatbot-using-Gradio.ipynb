{
 "cells": [
  {
   "cell_type": "code",
   "execution_count": 4,
   "id": "f1b4f693-dedc-49c9-9160-a50238affe60",
   "metadata": {},
   "outputs": [],
   "source": [
    "import os\n",
    "from dotenv import load_dotenv\n",
    "import openai\n",
    "import gradio as gr"
   ]
  },
  {
   "cell_type": "code",
   "execution_count": 2,
   "id": "6823edff-64a7-4bf1-8688-271c31311c85",
   "metadata": {},
   "outputs": [],
   "source": [
    "load_dotenv()\n",
    "client = openai.OpenAI(api_key=os.getenv(\"OPENAI_API_KEY\"))"
   ]
  },
  {
   "cell_type": "code",
   "execution_count": 17,
   "id": "fefe673d-e156-4ede-b94f-cbf94b5498d2",
   "metadata": {},
   "outputs": [],
   "source": [
    "def generate_response(message, history):\n",
    "    messages = [{\"role\": \"system\", \"content\": \"\"\"You're an arrogant, overconfident marketer who believes your product is \\n the best thing to ever exist. You boast, exaggerate, and always steer the \\n conversation toward why your brand is unbeatable.\"\"\"},\n",
    "                {\"role\": \"user\", \"content\": \"Why is your product so expensive?\"},\n",
    "                {\"role\": \"assistant\", \"content\": \"Expensive? Please. It's called premium. You’re not just paying for a product—you’re paying for the privilege to own greatness.\"},\n",
    "                {\"role\": \"user\", \"content\": \"Is it better than the competition?\"},\n",
    "                {\"role\": \"assistant\", \"content\": \"Better? The competition shouldn’t even be mentioned in the same breath. Ours redefines the category. The rest are just cheap imitations.\"},\n",
    "                {\"role\": \"user\", \"content\": message}]\n",
    "    for u_msg, a_msg in history:\n",
    "        messages.append({\"role\": \"user\", \"content\": u_msg})\n",
    "        messages.append({\"role\": \"assistant\", \"content\": a_msg})\n",
    "    messages.append({\"role\": \"user\", \"content\": message})\n",
    "    print(\"History\")\n",
    "    print(history)\n",
    "    print(\"User Message is: \")\n",
    "    print(messages)\n",
    "    try:\n",
    "        response = openai.chat.completions.create(\n",
    "            model=\"gpt-3.5-turbo\",\n",
    "            messages=messages,\n",
    "            temperature=0.9,\n",
    "            max_tokens=150,\n",
    "            stream=True\n",
    "        )\n",
    "\n",
    "        full_response = \"\"\n",
    "        for chunk in response:\n",
    "            full_response += chunk.choices[0].delta.content or ''\n",
    "            yield full_response\n",
    "\n",
    "    except Exception as e:\n",
    "        yield f\"Error: {str(e)}\""
   ]
  },
  {
   "cell_type": "code",
   "execution_count": 18,
   "id": "b618f891-6385-4002-abf8-a39f6a0e652e",
   "metadata": {},
   "outputs": [
    {
     "name": "stderr",
     "output_type": "stream",
     "text": [
      "C:\\Users\\Alamin\\AppData\\Local\\Temp\\ipykernel_3388\\848616133.py:1: UserWarning: You have not specified a value for the `type` parameter. Defaulting to the 'tuples' format for chatbot messages, but this is deprecated and will be removed in a future version of Gradio. Please set type='messages' instead, which uses openai-style dictionaries with 'role' and 'content' keys.\n",
      "  gr.ChatInterface(generate_response, chatbot=gr.Chatbot()).launch()\n",
      "C:\\Users\\Alamin\\anaconda3\\envs\\llms\\Lib\\site-packages\\gradio\\chat_interface.py:321: UserWarning: The gr.ChatInterface was not provided with a type, so the type of the gr.Chatbot, 'tuples', will be used.\n",
      "  warnings.warn(\n"
     ]
    },
    {
     "name": "stdout",
     "output_type": "stream",
     "text": [
      "* Running on local URL:  http://127.0.0.1:7867\n",
      "* To create a public link, set `share=True` in `launch()`.\n"
     ]
    },
    {
     "data": {
      "text/html": [
       "<div><iframe src=\"http://127.0.0.1:7867/\" width=\"100%\" height=\"500\" allow=\"autoplay; camera; microphone; clipboard-read; clipboard-write;\" frameborder=\"0\" allowfullscreen></iframe></div>"
      ],
      "text/plain": [
       "<IPython.core.display.HTML object>"
      ]
     },
     "metadata": {},
     "output_type": "display_data"
    },
    {
     "data": {
      "text/plain": []
     },
     "execution_count": 18,
     "metadata": {},
     "output_type": "execute_result"
    }
   ],
   "source": [
    "gr.ChatInterface(generate_response, chatbot=gr.Chatbot()).launch()"
   ]
  },
  {
   "cell_type": "code",
   "execution_count": null,
   "id": "8f906302-7ed0-4982-8167-ae744c221235",
   "metadata": {},
   "outputs": [],
   "source": []
  }
 ],
 "metadata": {
  "kernelspec": {
   "display_name": "Python [conda env:llms]",
   "language": "python",
   "name": "conda-env-llms-py"
  },
  "language_info": {
   "codemirror_mode": {
    "name": "ipython",
    "version": 3
   },
   "file_extension": ".py",
   "mimetype": "text/x-python",
   "name": "python",
   "nbconvert_exporter": "python",
   "pygments_lexer": "ipython3",
   "version": "3.11.12"
  }
 },
 "nbformat": 4,
 "nbformat_minor": 5
}
